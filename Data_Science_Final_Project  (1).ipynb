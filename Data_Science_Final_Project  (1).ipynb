{
 "cells": [
  {
   "cell_type": "markdown",
   "id": "c1690eb3",
   "metadata": {},
   "source": [
    "# Handwritten Digit Recognition App using the MNIST Dataset -- Convolutional Neural Networks (CNN)"
   ]
  },
  {
   "cell_type": "markdown",
   "id": "adfe4510",
   "metadata": {},
   "source": [
    "Importing Libraries\n",
    "- For this project, we will be using the Keras library which contains the MNIST dataset along with numpy and tensorflow libraries.\n",
    "- Then, we will use the mnist.load_data() method to split train and test data in order to return training data and its labels and testing data and its labels."
   ]
  },
  {
   "cell_type": "code",
   "execution_count": 1,
   "id": "ef5b18b0",
   "metadata": {},
   "outputs": [],
   "source": [
    "import numpy as np\n",
    "import tensorflow as tf\n",
    "import keras"
   ]
  },
  {
   "cell_type": "code",
   "execution_count": 2,
   "id": "cfbd0d73",
   "metadata": {},
   "outputs": [
    {
     "name": "stdout",
     "output_type": "stream",
     "text": [
      "(60000, 28, 28) (60000,)\n"
     ]
    }
   ],
   "source": [
    "import keras\n",
    "from keras.datasets import mnist\n",
    "from keras.models import Sequential\n",
    "from keras.layers import Dense, Dropout, Flatten\n",
    "from keras.layers import Conv2D, MaxPooling2D\n",
    "from keras import backend as K\n",
    "# the data, split between train and test sets\n",
    "(x_train, y_train), (x_test, y_test) = mnist.load_data()\n",
    "print(x_train.shape, y_train.shape)"
   ]
  },
  {
   "cell_type": "markdown",
   "id": "ed18e95c",
   "metadata": {},
   "source": [
    "Data Preprocessing\n",
    "- We will be tranforming image data from class vectors to binary class matrices in order to prepare it for our neural network.\n",
    "- The CNN model will require one more dimension, therefore, reshaping the dimension of the dataset to (60000,28,28,1)."
   ]
  },
  {
   "cell_type": "code",
   "execution_count": 6,
   "id": "73002ea5",
   "metadata": {},
   "outputs": [
    {
     "name": "stdout",
     "output_type": "stream",
     "text": [
      "x_train shape: (60000, 28, 28, 1)\n",
      "60000 train samples\n",
      "10000 test samples\n"
     ]
    }
   ],
   "source": [
    "x_train = x_train.reshape(x_train.shape[0], 28, 28, 1)\n",
    "x_test = x_test.reshape(x_test.shape[0], 28, 28, 1)\n",
    "input_shape = (28, 28, 1)\n",
    "\n",
    "# converting class vectors to binary class matrices\n",
    "y_train = keras.utils.to_categorical(y_train, num_classes)\n",
    "y_test = keras.utils.to_categorical(y_test, num_classes)\n",
    "\n",
    "x_train = x_train.astype('float32')\n",
    "x_test = x_test.astype('float32')\n",
    "x_train /= 255\n",
    "x_test /= 255\n",
    "print('x_train shape:', x_train.shape)\n",
    "print(x_train.shape[0], 'train samples')\n",
    "print(x_test.shape[0], 'test samples')"
   ]
  },
  {
   "cell_type": "markdown",
   "id": "cc437f12",
   "metadata": {},
   "source": [
    "Convolutional Neural Networks (CNN) Model\n",
    "- We will be using the CNN model since our data is represented as grid structures and the CNN model will be very effective for image classification purpose of this application. \n",
    "- Then, we compile the model with the Adadelta optimizer."
   ]
  },
  {
   "cell_type": "code",
   "execution_count": 7,
   "id": "79c9689f",
   "metadata": {},
   "outputs": [],
   "source": [
    "batch_size = 128\n",
    "num_classes = 10\n",
    "epochs = 10\n",
    "model = Sequential()\n",
    "model.add(Conv2D(32, kernel_size=(3, 3),activation='relu',input_shape=input_shape))\n",
    "model.add(Conv2D(64, (3, 3), activation='relu'))\n",
    "model.add(MaxPooling2D(pool_size=(2, 2)))\n",
    "model.add(Dropout(0.25))\n",
    "model.add(Flatten())\n",
    "model.add(Dense(256, activation='relu'))\n",
    "model.add(Dropout(0.5))\n",
    "model.add(Dense(num_classes, activation='softmax'))\n",
    "model.compile(loss=keras.losses.categorical_crossentropy,optimizer=keras.optimizers.Adadelta(),metrics=['accuracy'])"
   ]
  },
  {
   "cell_type": "markdown",
   "id": "79badca8",
   "metadata": {},
   "source": [
    "Training the model\n",
    "- We will train the model using the model_fit() function of Keras library, which will take the training data, validation data, epochs, and batch size."
   ]
  },
  {
   "cell_type": "code",
   "execution_count": 8,
   "id": "812755f8",
   "metadata": {},
   "outputs": [
    {
     "name": "stdout",
     "output_type": "stream",
     "text": [
      "Epoch 1/10\n",
      "469/469 [==============================] - 63s 133ms/step - loss: 2.2678 - accuracy: 0.1572 - val_loss: 2.2134 - val_accuracy: 0.3810\n",
      "Epoch 2/10\n",
      "469/469 [==============================] - 61s 130ms/step - loss: 2.1769 - accuracy: 0.2977 - val_loss: 2.0977 - val_accuracy: 0.5976\n",
      "Epoch 3/10\n",
      "469/469 [==============================] - 60s 129ms/step - loss: 2.0557 - accuracy: 0.4372 - val_loss: 1.9419 - val_accuracy: 0.7134\n",
      "Epoch 4/10\n",
      "469/469 [==============================] - 61s 129ms/step - loss: 1.8927 - accuracy: 0.5449 - val_loss: 1.7328 - val_accuracy: 0.7725\n",
      "Epoch 5/10\n",
      "469/469 [==============================] - 61s 129ms/step - loss: 1.6820 - accuracy: 0.6230 - val_loss: 1.4763 - val_accuracy: 0.8020\n",
      "Epoch 6/10\n",
      "469/469 [==============================] - 61s 130ms/step - loss: 1.4528 - accuracy: 0.6639 - val_loss: 1.2174 - val_accuracy: 0.8135\n",
      "Epoch 7/10\n",
      "469/469 [==============================] - 61s 130ms/step - loss: 1.2414 - accuracy: 0.6962 - val_loss: 1.0017 - val_accuracy: 0.8259\n",
      "Epoch 8/10\n",
      "469/469 [==============================] - 61s 130ms/step - loss: 1.0759 - accuracy: 0.7161 - val_loss: 0.8419 - val_accuracy: 0.8350\n",
      "Epoch 9/10\n",
      "469/469 [==============================] - 61s 130ms/step - loss: 0.9553 - accuracy: 0.7361 - val_loss: 0.7295 - val_accuracy: 0.8444\n",
      "Epoch 10/10\n",
      "469/469 [==============================] - 61s 130ms/step - loss: 0.8668 - accuracy: 0.7511 - val_loss: 0.6498 - val_accuracy: 0.8542\n",
      "The model has successfully trained\n",
      "Saving the model as mnist.h5\n"
     ]
    }
   ],
   "source": [
    "hist = model.fit(x_train, y_train,batch_size=batch_size,epochs=epochs,verbose=1,validation_data=(x_test, y_test))\n",
    "print(\"The model has successfully trained\")\n",
    "model.save('mnist.h5')\n",
    "print(\"Saving the model as mnist.h5\")"
   ]
  },
  {
   "cell_type": "markdown",
   "id": "2ed0ce95",
   "metadata": {},
   "source": [
    "Evaluation\n",
    "- 10,000 images in our dataset will be evaluated to see how well our model functions.\n",
    "- Excpected Accuracy for this project is 99% since the MNIST dataset is well-balanced. "
   ]
  },
  {
   "cell_type": "code",
   "execution_count": 9,
   "id": "177f0340",
   "metadata": {},
   "outputs": [
    {
     "name": "stdout",
     "output_type": "stream",
     "text": [
      "Test loss: 0.6497976779937744\n",
      "Test accuracy: 0.854200005531311\n"
     ]
    }
   ],
   "source": [
    "score = model.evaluate(x_test, y_test, verbose=0)\n",
    "print('Test loss:', score[0])\n",
    "print('Test accuracy:', score[1])"
   ]
  },
  {
   "cell_type": "markdown",
   "id": "01ed97bf",
   "metadata": {},
   "source": [
    "Graphical User Interface for Predicting Digits\n",
    "- For the GUI, we built a window that will navigate the canvas to draw digits.\n",
    "- Using the predict_digit() function, it will take image as input and then utilize the trained model to indentify the digit. "
   ]
  },
  {
   "cell_type": "code",
   "execution_count": null,
   "id": "0123a686",
   "metadata": {},
   "outputs": [],
   "source": [
    "from keras.models import load_model\n",
    "from tkinter import *\n",
    "import tkinter as tk\n",
    "import win32gui\n",
    "from PIL import ImageGrab, Image\n",
    "import numpy as np\n",
    "model = load_model('mnist.h5')\n",
    "def predict_digit(img):\n",
    "    #resize image to 28x28 pixels\n",
    "    img = img.resize((28,28))\n",
    "    #convert rgb to grayscale\n",
    "    img = img.convert('L')\n",
    "    img = np.array(img)\n",
    "    #reshaping to support our model input and normalizing\n",
    "    img = img.reshape(1,28,28,1)\n",
    "    img = img/255.0\n",
    "    #predicting the class\n",
    "    res = model.predict([img])[0]\n",
    "    return np.argmax(res), max(res)\n",
    "class App(tk.Tk):\n",
    "    def __init__(self):\n",
    "        tk.Tk.__init__(self)\n",
    "        self.x = self.y = 0\n",
    "        # Creating elements\n",
    "        self.canvas = tk.Canvas(self, width=300, height=300, bg = \"white\", cursor=\"cross\")\n",
    "        self.label = tk.Label(self, text=\"Thinking..\", font=(\"Helvetica\", 48))\n",
    "        self.classify_btn = tk.Button(self, text = \"Recognise\", command =         self.classify_handwriting) \n",
    "        self.button_clear = tk.Button(self, text = \"Clear\", command = self.clear_all)\n",
    "        # Grid structure\n",
    "        self.canvas.grid(row=0, column=0, pady=2, sticky=W, )\n",
    "        self.label.grid(row=0, column=1,pady=2, padx=2)\n",
    "        self.classify_btn.grid(row=1, column=1, pady=2, padx=2)\n",
    "        self.button_clear.grid(row=1, column=0, pady=2)\n",
    "        #self.canvas.bind(\"<Motion>\", self.start_pos)\n",
    "        self.canvas.bind(\"<B1-Motion>\", self.draw_lines)\n",
    "    def clear_all(self):\n",
    "        self.canvas.delete(\"all\")\n",
    "    def classify_handwriting(self):\n",
    "        HWND = self.canvas.winfo_id() # get the handle of the canvas\n",
    "        rect = win32gui.GetWindowRect(HWND) # get the coordinate of the canvas\n",
    "        im = ImageGrab.grab(rect)\n",
    "        digit, acc = predict_digit(im)\n",
    "        self.label.configure(text= str(digit)+', '+ str(int(acc*100))+'%')\n",
    "    def draw_lines(self, event):\n",
    "        self.x = event.x\n",
    "        self.y = event.y\n",
    "        r=8\n",
    "        self.canvas.create_oval(self.x-r, self.y-r, self.x + r, self.y + r, fill='black')\n",
    "app = App()\n",
    "mainloop()"
   ]
  },
  {
   "cell_type": "markdown",
   "id": "b0e4bfb7",
   "metadata": {},
   "source": [
    "Summary"
   ]
  },
  {
   "cell_type": "markdown",
   "id": "420024a9",
   "metadata": {},
   "source": [
    "- In this project, we built a deep learning model focused on handwritten digit recognition app. For image classfication purposes, we developed and trained a convolutional neural networks, which works great for classifying images. Last but not least, for pratical use we built a Graphical User Interface (GUI), where we can draw a digit (e.g., 1) on the interactive canvas and it will indentify the drawn digit."
   ]
  },
  {
   "cell_type": "markdown",
   "id": "a4f7f43a",
   "metadata": {},
   "source": [
    "Code Sources:\n",
    "- GitHub\n",
    "- Stackoverflow"
   ]
  }
 ],
 "metadata": {
  "kernelspec": {
   "display_name": "Python 3 (ipykernel)",
   "language": "python",
   "name": "python3"
  },
  "language_info": {
   "codemirror_mode": {
    "name": "ipython",
    "version": 3
   },
   "file_extension": ".py",
   "mimetype": "text/x-python",
   "name": "python",
   "nbconvert_exporter": "python",
   "pygments_lexer": "ipython3",
   "version": "3.9.12"
  }
 },
 "nbformat": 4,
 "nbformat_minor": 5
}
