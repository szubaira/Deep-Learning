{
 "cells": [
  {
   "cell_type": "markdown",
   "id": "704a3c7a",
   "metadata": {},
   "source": [
    "# DSE 598: App Bayesian Graphical Models\n",
    "Part 1 Practice -- \n",
    "Sarim Zubair --\n",
    "9/23/2022"
   ]
  },
  {
   "cell_type": "markdown",
   "id": "e5c10eb3",
   "metadata": {},
   "source": [
    "Data Analysis"
   ]
  },
  {
   "cell_type": "code",
   "execution_count": 4,
   "id": "22a616da",
   "metadata": {
    "scrolled": true
   },
   "outputs": [],
   "source": [
    "import pandas as pd"
   ]
  },
  {
   "cell_type": "code",
   "execution_count": 38,
   "id": "6e110761",
   "metadata": {},
   "outputs": [
    {
     "data": {
      "text/html": [
       "<div>\n",
       "<style scoped>\n",
       "    .dataframe tbody tr th:only-of-type {\n",
       "        vertical-align: middle;\n",
       "    }\n",
       "\n",
       "    .dataframe tbody tr th {\n",
       "        vertical-align: top;\n",
       "    }\n",
       "\n",
       "    .dataframe thead th {\n",
       "        text-align: right;\n",
       "    }\n",
       "</style>\n",
       "<table border=\"1\" class=\"dataframe\">\n",
       "  <thead>\n",
       "    <tr style=\"text-align: right;\">\n",
       "      <th></th>\n",
       "      <th>me</th>\n",
       "      <th>ve</th>\n",
       "      <th>al</th>\n",
       "      <th>an</th>\n",
       "      <th>st</th>\n",
       "    </tr>\n",
       "  </thead>\n",
       "  <tbody>\n",
       "    <tr>\n",
       "      <th>0</th>\n",
       "      <td>77</td>\n",
       "      <td>82</td>\n",
       "      <td>67</td>\n",
       "      <td>67</td>\n",
       "      <td>81</td>\n",
       "    </tr>\n",
       "    <tr>\n",
       "      <th>1</th>\n",
       "      <td>63</td>\n",
       "      <td>78</td>\n",
       "      <td>80</td>\n",
       "      <td>70</td>\n",
       "      <td>81</td>\n",
       "    </tr>\n",
       "    <tr>\n",
       "      <th>2</th>\n",
       "      <td>75</td>\n",
       "      <td>73</td>\n",
       "      <td>71</td>\n",
       "      <td>66</td>\n",
       "      <td>81</td>\n",
       "    </tr>\n",
       "    <tr>\n",
       "      <th>3</th>\n",
       "      <td>55</td>\n",
       "      <td>72</td>\n",
       "      <td>63</td>\n",
       "      <td>70</td>\n",
       "      <td>68</td>\n",
       "    </tr>\n",
       "    <tr>\n",
       "      <th>4</th>\n",
       "      <td>63</td>\n",
       "      <td>63</td>\n",
       "      <td>5</td>\n",
       "      <td>70</td>\n",
       "      <td>63</td>\n",
       "    </tr>\n",
       "    <tr>\n",
       "      <th>5</th>\n",
       "      <td>53</td>\n",
       "      <td>61</td>\n",
       "      <td>72</td>\n",
       "      <td>64</td>\n",
       "      <td>73</td>\n",
       "    </tr>\n",
       "    <tr>\n",
       "      <th>6</th>\n",
       "      <td>51</td>\n",
       "      <td>67</td>\n",
       "      <td>65</td>\n",
       "      <td>65</td>\n",
       "      <td>68</td>\n",
       "    </tr>\n",
       "    <tr>\n",
       "      <th>7</th>\n",
       "      <td>59</td>\n",
       "      <td>70</td>\n",
       "      <td>68</td>\n",
       "      <td>62</td>\n",
       "      <td>56</td>\n",
       "    </tr>\n",
       "    <tr>\n",
       "      <th>8</th>\n",
       "      <td>62</td>\n",
       "      <td>60</td>\n",
       "      <td>58</td>\n",
       "      <td>62</td>\n",
       "      <td>70</td>\n",
       "    </tr>\n",
       "    <tr>\n",
       "      <th>9</th>\n",
       "      <td>64</td>\n",
       "      <td>72</td>\n",
       "      <td>60</td>\n",
       "      <td>62</td>\n",
       "      <td>45</td>\n",
       "    </tr>\n",
       "  </tbody>\n",
       "</table>\n",
       "</div>"
      ],
      "text/plain": [
       "   me  ve  al  an  st\n",
       "0  77  82  67  67  81\n",
       "1  63  78  80  70  81\n",
       "2  75  73  71  66  81\n",
       "3  55  72  63  70  68\n",
       "4  63  63   5  70  63\n",
       "5  53  61  72  64  73\n",
       "6  51  67  65  65  68\n",
       "7  59  70  68  62  56\n",
       "8  62  60  58  62  70\n",
       "9  64  72  60  62  45"
      ]
     },
     "execution_count": 38,
     "metadata": {},
     "output_type": "execute_result"
    }
   ],
   "source": [
    "df = pd.read_csv(\"math exam scores (1).csv\")\n",
    "df.head(10)"
   ]
  },
  {
   "cell_type": "code",
   "execution_count": 35,
   "id": "e70187db",
   "metadata": {},
   "outputs": [],
   "source": [
    "import numpy as np\n",
    "df = df.to_numpy()"
   ]
  },
  {
   "cell_type": "code",
   "execution_count": 36,
   "id": "bb0adc77",
   "metadata": {},
   "outputs": [
    {
     "data": {
      "text/html": [
       "<div>\n",
       "<style scoped>\n",
       "    .dataframe tbody tr th:only-of-type {\n",
       "        vertical-align: middle;\n",
       "    }\n",
       "\n",
       "    .dataframe tbody tr th {\n",
       "        vertical-align: top;\n",
       "    }\n",
       "\n",
       "    .dataframe thead th {\n",
       "        text-align: right;\n",
       "    }\n",
       "</style>\n",
       "<table border=\"1\" class=\"dataframe\">\n",
       "  <thead>\n",
       "    <tr style=\"text-align: right;\">\n",
       "      <th></th>\n",
       "      <th>me</th>\n",
       "      <th>ve</th>\n",
       "      <th>al</th>\n",
       "      <th>an</th>\n",
       "      <th>st</th>\n",
       "    </tr>\n",
       "  </thead>\n",
       "  <tbody>\n",
       "    <tr>\n",
       "      <th>0</th>\n",
       "      <td>77</td>\n",
       "      <td>82</td>\n",
       "      <td>67</td>\n",
       "      <td>67</td>\n",
       "      <td>81</td>\n",
       "    </tr>\n",
       "    <tr>\n",
       "      <th>1</th>\n",
       "      <td>63</td>\n",
       "      <td>78</td>\n",
       "      <td>80</td>\n",
       "      <td>70</td>\n",
       "      <td>81</td>\n",
       "    </tr>\n",
       "    <tr>\n",
       "      <th>2</th>\n",
       "      <td>75</td>\n",
       "      <td>73</td>\n",
       "      <td>71</td>\n",
       "      <td>66</td>\n",
       "      <td>81</td>\n",
       "    </tr>\n",
       "    <tr>\n",
       "      <th>3</th>\n",
       "      <td>55</td>\n",
       "      <td>72</td>\n",
       "      <td>63</td>\n",
       "      <td>70</td>\n",
       "      <td>68</td>\n",
       "    </tr>\n",
       "    <tr>\n",
       "      <th>4</th>\n",
       "      <td>63</td>\n",
       "      <td>63</td>\n",
       "      <td>5</td>\n",
       "      <td>70</td>\n",
       "      <td>63</td>\n",
       "    </tr>\n",
       "    <tr>\n",
       "      <th>...</th>\n",
       "      <td>...</td>\n",
       "      <td>...</td>\n",
       "      <td>...</td>\n",
       "      <td>...</td>\n",
       "      <td>...</td>\n",
       "    </tr>\n",
       "    <tr>\n",
       "      <th>83</th>\n",
       "      <td>15</td>\n",
       "      <td>38</td>\n",
       "      <td>39</td>\n",
       "      <td>28</td>\n",
       "      <td>17</td>\n",
       "    </tr>\n",
       "    <tr>\n",
       "      <th>84</th>\n",
       "      <td>5</td>\n",
       "      <td>30</td>\n",
       "      <td>44</td>\n",
       "      <td>36</td>\n",
       "      <td>18</td>\n",
       "    </tr>\n",
       "    <tr>\n",
       "      <th>85</th>\n",
       "      <td>12</td>\n",
       "      <td>30</td>\n",
       "      <td>32</td>\n",
       "      <td>35</td>\n",
       "      <td>21</td>\n",
       "    </tr>\n",
       "    <tr>\n",
       "      <th>86</th>\n",
       "      <td>5</td>\n",
       "      <td>26</td>\n",
       "      <td>15</td>\n",
       "      <td>20</td>\n",
       "      <td>20</td>\n",
       "    </tr>\n",
       "    <tr>\n",
       "      <th>87</th>\n",
       "      <td>0</td>\n",
       "      <td>40</td>\n",
       "      <td>21</td>\n",
       "      <td>9</td>\n",
       "      <td>14</td>\n",
       "    </tr>\n",
       "  </tbody>\n",
       "</table>\n",
       "<p>88 rows × 5 columns</p>\n",
       "</div>"
      ],
      "text/plain": [
       "    me  ve  al  an  st\n",
       "0   77  82  67  67  81\n",
       "1   63  78  80  70  81\n",
       "2   75  73  71  66  81\n",
       "3   55  72  63  70  68\n",
       "4   63  63   5  70  63\n",
       "..  ..  ..  ..  ..  ..\n",
       "83  15  38  39  28  17\n",
       "84   5  30  44  36  18\n",
       "85  12  30  32  35  21\n",
       "86   5  26  15  20  20\n",
       "87   0  40  21   9  14\n",
       "\n",
       "[88 rows x 5 columns]"
      ]
     },
     "metadata": {},
     "output_type": "display_data"
    }
   ],
   "source": [
    "import pandas as pd\n",
    "df = pd.read_csv(\"math exam scores (1).csv\")\n",
    "df.columns.values[0] = 'me'\n",
    "display(df)"
   ]
  },
  {
   "cell_type": "code",
   "execution_count": 3,
   "id": "06a4f655",
   "metadata": {},
   "outputs": [],
   "source": [
    "import pandas as pd"
   ]
  },
  {
   "cell_type": "code",
   "execution_count": 37,
   "id": "c382dbc0",
   "metadata": {},
   "outputs": [
    {
     "data": {
      "text/html": [
       "<div>\n",
       "<style scoped>\n",
       "    .dataframe tbody tr th:only-of-type {\n",
       "        vertical-align: middle;\n",
       "    }\n",
       "\n",
       "    .dataframe tbody tr th {\n",
       "        vertical-align: top;\n",
       "    }\n",
       "\n",
       "    .dataframe thead th {\n",
       "        text-align: right;\n",
       "    }\n",
       "</style>\n",
       "<table border=\"1\" class=\"dataframe\">\n",
       "  <thead>\n",
       "    <tr style=\"text-align: right;\">\n",
       "      <th></th>\n",
       "      <th>me</th>\n",
       "      <th>ve</th>\n",
       "      <th>al</th>\n",
       "      <th>an</th>\n",
       "      <th>st</th>\n",
       "    </tr>\n",
       "  </thead>\n",
       "  <tbody>\n",
       "    <tr>\n",
       "      <th>count</th>\n",
       "      <td>88.000000</td>\n",
       "      <td>88.000000</td>\n",
       "      <td>88.000000</td>\n",
       "      <td>88.000000</td>\n",
       "      <td>88.000000</td>\n",
       "    </tr>\n",
       "    <tr>\n",
       "      <th>mean</th>\n",
       "      <td>38.954545</td>\n",
       "      <td>50.590909</td>\n",
       "      <td>49.920455</td>\n",
       "      <td>46.602273</td>\n",
       "      <td>41.727273</td>\n",
       "    </tr>\n",
       "    <tr>\n",
       "      <th>std</th>\n",
       "      <td>17.486224</td>\n",
       "      <td>13.146947</td>\n",
       "      <td>11.573078</td>\n",
       "      <td>14.592188</td>\n",
       "      <td>17.556953</td>\n",
       "    </tr>\n",
       "    <tr>\n",
       "      <th>min</th>\n",
       "      <td>0.000000</td>\n",
       "      <td>9.000000</td>\n",
       "      <td>5.000000</td>\n",
       "      <td>9.000000</td>\n",
       "      <td>9.000000</td>\n",
       "    </tr>\n",
       "    <tr>\n",
       "      <th>25%</th>\n",
       "      <td>30.000000</td>\n",
       "      <td>42.000000</td>\n",
       "      <td>44.750000</td>\n",
       "      <td>37.500000</td>\n",
       "      <td>30.750000</td>\n",
       "    </tr>\n",
       "    <tr>\n",
       "      <th>50%</th>\n",
       "      <td>41.500000</td>\n",
       "      <td>51.000000</td>\n",
       "      <td>50.000000</td>\n",
       "      <td>49.000000</td>\n",
       "      <td>40.000000</td>\n",
       "    </tr>\n",
       "    <tr>\n",
       "      <th>75%</th>\n",
       "      <td>49.250000</td>\n",
       "      <td>60.000000</td>\n",
       "      <td>57.000000</td>\n",
       "      <td>56.250000</td>\n",
       "      <td>51.500000</td>\n",
       "    </tr>\n",
       "    <tr>\n",
       "      <th>max</th>\n",
       "      <td>77.000000</td>\n",
       "      <td>82.000000</td>\n",
       "      <td>80.000000</td>\n",
       "      <td>70.000000</td>\n",
       "      <td>81.000000</td>\n",
       "    </tr>\n",
       "  </tbody>\n",
       "</table>\n",
       "</div>"
      ],
      "text/plain": [
       "              me         ve         al         an         st\n",
       "count  88.000000  88.000000  88.000000  88.000000  88.000000\n",
       "mean   38.954545  50.590909  49.920455  46.602273  41.727273\n",
       "std    17.486224  13.146947  11.573078  14.592188  17.556953\n",
       "min     0.000000   9.000000   5.000000   9.000000   9.000000\n",
       "25%    30.000000  42.000000  44.750000  37.500000  30.750000\n",
       "50%    41.500000  51.000000  50.000000  49.000000  40.000000\n",
       "75%    49.250000  60.000000  57.000000  56.250000  51.500000\n",
       "max    77.000000  82.000000  80.000000  70.000000  81.000000"
      ]
     },
     "execution_count": 37,
     "metadata": {},
     "output_type": "execute_result"
    }
   ],
   "source": [
    "df.describe()"
   ]
  },
  {
   "cell_type": "code",
   "execution_count": 12,
   "id": "458a6be6",
   "metadata": {},
   "outputs": [
    {
     "data": {
      "text/plain": [
       "(88, 5)"
      ]
     },
     "execution_count": 12,
     "metadata": {},
     "output_type": "execute_result"
    }
   ],
   "source": [
    "df.shape"
   ]
  },
  {
   "cell_type": "markdown",
   "id": "1d240ab0",
   "metadata": {},
   "source": [
    "The file \"math exam scores.csv\" contains 88 students math scores of five subjects -- mechanics, vectors, algebra, analysis and statistics. Use your preferred software to perform the following tasks:\n",
    "\n",
    "1. Plot histograms of these five subjects and comment on these plots.\n",
    "\n",
    "2. Do scatter plots of every pairs of subjects and comment.\n",
    "\n",
    "3. Compute sample variance-covariance matrix and correlation matrix.\n",
    "\n",
    "4. Compute inverse correlation matrix.\n",
    "\n",
    "5. Test each inverse correlation if it's statistically significant.\n",
    "\n",
    "6. Propose a graphical model of these five variables. \n",
    "\n",
    "7. Develop a GP model to use the value of variable ve to predict the value of variable me. \n",
    "\n",
    "8. Evaluate and discuss the performance of your GP model."
   ]
  },
  {
   "cell_type": "markdown",
   "id": "8018955f",
   "metadata": {},
   "source": [
    "# Histograms"
   ]
  },
  {
   "cell_type": "code",
   "execution_count": 34,
   "id": "69d77e1c",
   "metadata": {},
   "outputs": [
    {
     "data": {
      "image/png": "[encoded data removed]",
      "text/plain": [
       "<Figure size 432x288 with 1 Axes>"
      ]
     },
     "metadata": {
      "needs_background": "light"
     },
     "output_type": "display_data"
    }
   ],
   "source": [
    "import matplotlib.pyplot as plt\n",
    "import pandas as pd\n",
    "df = pd.read_csv('math exam scores (1).csv')\n",
    "plt.hist(df['ve'], bins=20)\n",
    "plt.title('Math Exam Scores (Vectors)')\n",
    "plt.xlabel('Number of Students')\n",
    "plt.ylabel('Exam Scores')\n",
    "plt.show()"
   ]
  },
  {
   "cell_type": "code",
   "execution_count": 8,
   "id": "79907150",
   "metadata": {},
   "outputs": [
    {
     "data": {
      "image/png": "[encoded data removed]",
      "text/plain": [
       "<Figure size 432x288 with 1 Axes>"
      ]
     },
     "metadata": {
      "needs_background": "light"
     },
     "output_type": "display_data"
    }
   ],
   "source": [
    "import matplotlib.pyplot as plt\n",
    "import pandas as pd\n",
    "df = pd.read_csv('math exam scores (1).csv')\n",
    "plt.hist(df['an'], bins=20)\n",
    "plt.title('Math Exam Scores (Analysis)')\n",
    "plt.xlabel('Number of Students')\n",
    "plt.ylabel('Exam Scores')\n",
    "plt.show()"
   ]
  },
  {
   "cell_type": "code",
   "execution_count": 9,
   "id": "2c1f6cbf",
   "metadata": {},
   "outputs": [
    {
     "data": {
      "image/png": "[encoded data removed]",
      "text/plain": [
       "<Figure size 432x288 with 1 Axes>"
      ]
     },
     "metadata": {
      "needs_background": "light"
     },
     "output_type": "display_data"
    }
   ],
   "source": [
    "import matplotlib.pyplot as plt\n",
    "import pandas as pd\n",
    "df = pd.read_csv('math exam scores (1).csv')\n",
    "plt.hist(df['st'], bins=20)\n",
    "plt.title('Math Exam Scores (Statistics)')\n",
    "plt.xlabel('Number of Students')\n",
    "plt.ylabel('Exam Scores')\n",
    "plt.show()"
   ]
  },
  {
   "cell_type": "code",
   "execution_count": 10,
   "id": "d449f42d",
   "metadata": {},
   "outputs": [
    {
     "data": {
      "image/png": "[encoded data removed]",
      "text/plain": [
       "<Figure size 432x288 with 1 Axes>"
      ]
     },
     "metadata": {
      "needs_background": "light"
     },
     "output_type": "display_data"
    }
   ],
   "source": [
    "import matplotlib.pyplot as plt\n",
    "import pandas as pd\n",
    "df = pd.read_csv('math exam scores (1).csv')\n",
    "plt.hist(df['me'], bins=20)\n",
    "plt.title('Math Exam Scores (Mechanics)')\n",
    "plt.xlabel('Number of Students')\n",
    "plt.ylabel('Exam Scores')\n",
    "plt.show()"
   ]
  },
  {
   "cell_type": "code",
   "execution_count": 11,
   "id": "d6c3cb4f",
   "metadata": {},
   "outputs": [
    {
     "data": {
      "image/png": "[encoded data removed]",
      "text/plain": [
       "<Figure size 432x288 with 1 Axes>"
      ]
     },
     "metadata": {
      "needs_background": "light"
     },
     "output_type": "display_data"
    }
   ],
   "source": [
    "import matplotlib.pyplot as plt\n",
    "import pandas as pd\n",
    "df = pd.read_csv('math exam scores (1).csv')\n",
    "plt.hist(df['al'],bins=20)\n",
    "plt.title('Math Exam Scores (Algebra)')\n",
    "plt.xlabel('Number of Students')\n",
    "plt.ylabel('Exam Scores')\n",
    "plt.show()"
   ]
  },
  {
   "cell_type": "markdown",
   "id": "23db467d",
   "metadata": {},
   "source": [
    "# Scatter Plots"
   ]
  },
  {
   "cell_type": "code",
   "execution_count": 104,
   "id": "6fb1a615",
   "metadata": {},
   "outputs": [
    {
     "data": {
      "text/html": [
       "<div>\n",
       "<style scoped>\n",
       "    .dataframe tbody tr th:only-of-type {\n",
       "        vertical-align: middle;\n",
       "    }\n",
       "\n",
       "    .dataframe tbody tr th {\n",
       "        vertical-align: top;\n",
       "    }\n",
       "\n",
       "    .dataframe thead th {\n",
       "        text-align: right;\n",
       "    }\n",
       "</style>\n",
       "<table border=\"1\" class=\"dataframe\">\n",
       "  <thead>\n",
       "    <tr style=\"text-align: right;\">\n",
       "      <th></th>\n",
       "      <th>me</th>\n",
       "      <th>ve</th>\n",
       "      <th>al</th>\n",
       "      <th>an</th>\n",
       "      <th>st</th>\n",
       "    </tr>\n",
       "  </thead>\n",
       "  <tbody>\n",
       "    <tr>\n",
       "      <th>0</th>\n",
       "      <td>77</td>\n",
       "      <td>82</td>\n",
       "      <td>67</td>\n",
       "      <td>67</td>\n",
       "      <td>81</td>\n",
       "    </tr>\n",
       "    <tr>\n",
       "      <th>1</th>\n",
       "      <td>63</td>\n",
       "      <td>78</td>\n",
       "      <td>80</td>\n",
       "      <td>70</td>\n",
       "      <td>81</td>\n",
       "    </tr>\n",
       "    <tr>\n",
       "      <th>2</th>\n",
       "      <td>75</td>\n",
       "      <td>73</td>\n",
       "      <td>71</td>\n",
       "      <td>66</td>\n",
       "      <td>81</td>\n",
       "    </tr>\n",
       "    <tr>\n",
       "      <th>3</th>\n",
       "      <td>55</td>\n",
       "      <td>72</td>\n",
       "      <td>63</td>\n",
       "      <td>70</td>\n",
       "      <td>68</td>\n",
       "    </tr>\n",
       "    <tr>\n",
       "      <th>4</th>\n",
       "      <td>63</td>\n",
       "      <td>63</td>\n",
       "      <td>5</td>\n",
       "      <td>70</td>\n",
       "      <td>63</td>\n",
       "    </tr>\n",
       "  </tbody>\n",
       "</table>\n",
       "</div>"
      ],
      "text/plain": [
       "   me  ve  al  an  st\n",
       "0  77  82  67  67  81\n",
       "1  63  78  80  70  81\n",
       "2  75  73  71  66  81\n",
       "3  55  72  63  70  68\n",
       "4  63  63   5  70  63"
      ]
     },
     "execution_count": 104,
     "metadata": {},
     "output_type": "execute_result"
    }
   ],
   "source": [
    "import matplotlib.pyplot as plt\n",
    "import pandas as pd\n",
    "df = pd.read_csv('math exam scores (1).csv')\n",
    "df.head()"
   ]
  },
  {
   "cell_type": "markdown",
   "id": "5267a739",
   "metadata": {},
   "source": [
    "Mechanics"
   ]
  },
  {
   "cell_type": "code",
   "execution_count": 114,
   "id": "045073c4",
   "metadata": {},
   "outputs": [
    {
     "data": {
      "text/plain": [
       "Text(0.5, 1.0, 'Mechanics vs. Statistics')"
      ]
     },
     "execution_count": 114,
     "metadata": {},
     "output_type": "execute_result"
    },
    {
     "data": {
      "image/png": "[encoded data removed]",
      "text/plain": [
       "<Figure size 432x288 with 1 Axes>"
      ]
     },
     "metadata": {
      "needs_background": "light"
     },
     "output_type": "display_data"
    },
    {
     "data": {
      "image/png": "[encoded data removed]",
      "text/plain": [
       "<Figure size 432x288 with 1 Axes>"
      ]
     },
     "metadata": {
      "needs_background": "light"
     },
     "output_type": "display_data"
    },
    {
     "data": {
      "image/png": "[encoded data removed]",
      "text/plain": [
       "<Figure size 432x288 with 1 Axes>"
      ]
     },
     "metadata": {
      "needs_background": "light"
     },
     "output_type": "display_data"
    },
    {
     "data": {
      "image/png": "[encoded data removed]",
      "text/plain": [
       "<Figure size 432x288 with 1 Axes>"
      ]
     },
     "metadata": {
      "needs_background": "light"
     },
     "output_type": "display_data"
    }
   ],
   "source": [
    "df.plot.scatter(x='me',y='ve')\n",
    "plt.title('Mechanics vs. Vectors')\n",
    "df.plot.scatter(x='me',y='al')\n",
    "plt.title('Mechanics vs. Algebra')\n",
    "df.plot.scatter(x='me',y='an')\n",
    "plt.title('Mechanics vs. Analysis')\n",
    "df.plot.scatter(x='me',y='st')\n",
    "plt.title('Mechanics vs. Statistics')"
   ]
  },
  {
   "cell_type": "markdown",
   "id": "f9ce5748",
   "metadata": {},
   "source": [
    "Vectors"
   ]
  },
  {
   "cell_type": "code",
   "execution_count": 116,
   "id": "1db05d15",
   "metadata": {
    "scrolled": true
   },
   "outputs": [
    {
     "data": {
      "text/plain": [
       "Text(0.5, 1.0, 'Vectors vs. Statistics')"
      ]
     },
     "execution_count": 116,
     "metadata": {},
     "output_type": "execute_result"
    },
    {
     "data": {
      "image/png": "[encoded data removed]",
      "text/plain": [
       "<Figure size 432x288 with 1 Axes>"
      ]
     },
     "metadata": {
      "needs_background": "light"
     },
     "output_type": "display_data"
    },
    {
     "data": {
      "image/png": "[encoded data removed]",
      "text/plain": [
       "<Figure size 432x288 with 1 Axes>"
      ]
     },
     "metadata": {
      "needs_background": "light"
     },
     "output_type": "display_data"
    },
    {
     "data": {
      "image/png": "[encoded data removed]",
      "text/plain": [
       "<Figure size 432x288 with 1 Axes>"
      ]
     },
     "metadata": {
      "needs_background": "light"
     },
     "output_type": "display_data"
    },
    {
     "data": {
      "image/png": "[encoded data removed]",
      "text/plain": [
       "<Figure size 432x288 with 1 Axes>"
      ]
     },
     "metadata": {
      "needs_background": "light"
     },
     "output_type": "display_data"
    }
   ],
   "source": [
    "df.plot.scatter(x='ve',y='me')\n",
    "plt.title('Vectors vs. Mechanics')\n",
    "df.plot.scatter(x='ve',y='al')\n",
    "plt.title('Vectors vs. Algebra')\n",
    "df.plot.scatter(x='ve',y='an')\n",
    "plt.title('Vectors vs. Analysis')\n",
    "df.plot.scatter(x='ve',y='st')\n",
    "plt.title('Vectors vs. Statistics')"
   ]
  },
  {
   "cell_type": "markdown",
   "id": "d2d65886",
   "metadata": {},
   "source": [
    "Algebra"
   ]
  },
  {
   "cell_type": "code",
   "execution_count": 118,
   "id": "45e23a02",
   "metadata": {},
   "outputs": [
    {
     "data": {
      "text/plain": [
       "Text(0.5, 1.0, 'Algebra vs. Statistics')"
      ]
     },
     "execution_count": 118,
     "metadata": {},
     "output_type": "execute_result"
    },
    {
     "data": {
      "image/png": "[encoded data removed]",
      "text/plain": [
       "<Figure size 432x288 with 1 Axes>"
      ]
     },
     "metadata": {
      "needs_background": "light"
     },
     "output_type": "display_data"
    },
    {
     "data": {
      "image/png": "[encoded data removed]",
      "text/plain": [
       "<Figure size 432x288 with 1 Axes>"
      ]
     },
     "metadata": {
      "needs_background": "light"
     },
     "output_type": "display_data"
    },
    {
     "data": {
      "image/png": "[encoded data removed]",
      "text/plain": [
       "<Figure size 432x288 with 1 Axes>"
      ]
     },
     "metadata": {
      "needs_background": "light"
     },
     "output_type": "display_data"
    },
    {
     "data": {
      "image/png": "[encoded data removed]",
      "text/plain": [
       "<Figure size 432x288 with 1 Axes>"
      ]
     },
     "metadata": {
      "needs_background": "light"
     },
     "output_type": "display_data"
    }
   ],
   "source": [
    "df.plot.scatter(x='al',y='me')\n",
    "plt.title('Algebra vs. Mechanics')\n",
    "df.plot.scatter(x='al',y='ve')\n",
    "plt.title('Algebra vs. Vectors')\n",
    "df.plot.scatter(x='al',y='an')\n",
    "plt.title('Algebra vs. Analysis')\n",
    "df.plot.scatter(x='al',y='st')\n",
    "plt.title('Algebra vs. Statistics')"
   ]
  },
  {
   "cell_type": "markdown",
   "id": "e46ae48d",
   "metadata": {},
   "source": [
    "Analysis"
   ]
  },
  {
   "cell_type": "code",
   "execution_count": 120,
   "id": "c07b741c",
   "metadata": {},
   "outputs": [
    {
     "data": {
      "text/plain": [
       "Text(0.5, 1.0, 'Analysis vs. Statistics')"
      ]
     },
     "execution_count": 120,
     "metadata": {},
     "output_type": "execute_result"
    },
    {
     "data": {
      "image/png": "[encoded data removed]",
      "text/plain": [
       "<Figure size 432x288 with 1 Axes>"
      ]
     },
     "metadata": {
      "needs_background": "light"
     },
     "output_type": "display_data"
    },
    {
     "data": {
      "image/png": "[encoded data removed]",
      "text/plain": [
       "<Figure size 432x288 with 1 Axes>"
      ]
     },
     "metadata": {
      "needs_background": "light"
     },
     "output_type": "display_data"
    },
    {
     "data": {
      "image/png": "[encoded data removed]",
      "text/plain": [
       "<Figure size 432x288 with 1 Axes>"
      ]
     },
     "metadata": {
      "needs_background": "light"
     },
     "output_type": "display_data"
    },
    {
     "data": {
      "image/png": "[encoded data removed]",
      "text/plain": [
       "<Figure size 432x288 with 1 Axes>"
      ]
     },
     "metadata": {
      "needs_background": "light"
     },
     "output_type": "display_data"
    }
   ],
   "source": [
    "df.plot.scatter(x='an',y='me')\n",
    "plt.title('Analysis vs. Mechanics')\n",
    "df.plot.scatter(x='an',y='ve')\n",
    "plt.title('Analysis vs. Vectors')\n",
    "df.plot.scatter(x='an',y='al')\n",
    "plt.title('Analysis vs. Algebra')\n",
    "df.plot.scatter(x='an',y='st')\n",
    "plt.title('Analysis vs. Statistics')"
   ]
  },
  {
   "cell_type": "markdown",
   "id": "2cbf94ec",
   "metadata": {},
   "source": [
    "Statistics"
   ]
  },
  {
   "cell_type": "code",
   "execution_count": 121,
   "id": "7f0aae8b",
   "metadata": {},
   "outputs": [
    {
     "data": {
      "text/plain": [
       "Text(0.5, 1.0, 'Statistics vs. Analysis')"
      ]
     },
     "execution_count": 121,
     "metadata": {},
     "output_type": "execute_result"
    },
    {
     "data": {
      "image/png": "[encoded data removed]",
      "text/plain": [
       "<Figure size 432x288 with 1 Axes>"
      ]
     },
     "metadata": {
      "needs_background": "light"
     },
     "output_type": "display_data"
    },
    {
     "data": {
      "image/png": "[encoded data removed]",
      "text/plain": [
       "<Figure size 432x288 with 1 Axes>"
      ]
     },
     "metadata": {
      "needs_background": "light"
     },
     "output_type": "display_data"
    },
    {
     "data": {
      "image/png": "[encoded data removed]",
      "text/plain": [
       "<Figure size 432x288 with 1 Axes>"
      ]
     },
     "metadata": {
      "needs_background": "light"
     },
     "output_type": "display_data"
    },
    {
     "data": {
      "image/png": "[encoded data removed]",
      "text/plain": [
       "<Figure size 432x288 with 1 Axes>"
      ]
     },
     "metadata": {
      "needs_background": "light"
     },
     "output_type": "display_data"
    }
   ],
   "source": [
    "df.plot.scatter(x='st',y='me')\n",
    "plt.title('Statistics vs. Mechanics')\n",
    "df.plot.scatter(x='st',y='ve')\n",
    "plt.title('Statistics vs. Vectors')\n",
    "df.plot.scatter(x='st',y='al')\n",
    "plt.title('Statistics vs. Algebra')\n",
    "df.plot.scatter(x='st',y='an')\n",
    "plt.title('Statistics vs. Analysis')"
   ]
  },
  {
   "cell_type": "markdown",
   "id": "2cce41ff",
   "metadata": {},
   "source": [
    "# Sample Variance-Covariance Matrix and Corrleation Matrix"
   ]
  },
  {
   "cell_type": "markdown",
   "id": "e8bb018d",
   "metadata": {},
   "source": [
    "Variance-Covariance Matrix"
   ]
  },
  {
   "cell_type": "code",
   "execution_count": 125,
   "id": "ffce39f7",
   "metadata": {},
   "outputs": [
    {
     "name": "stdout",
     "output_type": "stream",
     "text": [
      "            me          ve          al          an          st\n",
      "me  305.768025  127.222571   84.996343  115.510449  117.424242\n",
      "ve  127.222571  172.842215   76.599269   98.260711   99.450366\n",
      "al   84.996343   76.599269  133.936129   94.726620  111.564263\n",
      "an  115.510449   98.260711   94.726620  212.931949  164.143156\n",
      "st  117.424242   99.450366  111.564263  164.143156  308.246604\n"
     ]
    }
   ],
   "source": [
    "import pandas as pd \n",
    "df = pd.read_csv('math exam scores (1).csv')\n",
    "cov_matrix = df.cov()\n",
    "print (cov_matrix)"
   ]
  },
  {
   "cell_type": "markdown",
   "id": "470497ab",
   "metadata": {},
   "source": [
    "Correlation Matrix"
   ]
  },
  {
   "cell_type": "code",
   "execution_count": 124,
   "id": "ec4e15b3",
   "metadata": {},
   "outputs": [
    {
     "name": "stdout",
     "output_type": "stream",
     "text": [
      "          me        ve        al        an        st\n",
      "me  1.000000  0.553405  0.420006  0.452694  0.382483\n",
      "ve  0.553405  1.000000  0.503444  0.512194  0.430856\n",
      "al  0.420006  0.503444  1.000000  0.560922  0.549069\n",
      "an  0.452694  0.512194  0.560922  1.000000  0.640698\n",
      "st  0.382483  0.430856  0.549069  0.640698  1.000000\n"
     ]
    }
   ],
   "source": [
    "import pandas as pd\n",
    "matrix = df.corr()\n",
    "print (matrix)"
   ]
  },
  {
   "cell_type": "markdown",
   "id": "dfd4c874",
   "metadata": {},
   "source": [
    "Inverse Correlation Matrix"
   ]
  },
  {
   "cell_type": "code",
   "execution_count": 129,
   "id": "2790af95",
   "metadata": {},
   "outputs": [
    {
     "name": "stdout",
     "output_type": "stream",
     "text": [
      "[[ 1.5503648  -0.61787213 -0.15734622 -0.24274558 -0.08485425]\n",
      " [-0.61787213  1.74758658 -0.37759367 -0.34846624 -0.08604605]\n",
      " [-0.15734622 -0.37759367  1.74681468 -0.4130268  -0.47162591]\n",
      " [-0.24274558 -0.34846624 -0.4130268   2.06795094 -0.85516629]\n",
      " [-0.08485425 -0.08604605 -0.47162591 -0.85516629  1.87638721]]\n"
     ]
    }
   ],
   "source": [
    "import numpy as np\n",
    "print(np.linalg.inv(matrix))"
   ]
  },
  {
   "cell_type": "markdown",
   "id": "e2697471",
   "metadata": {},
   "source": [
    "# Statistical Significance"
   ]
  },
  {
   "cell_type": "markdown",
   "id": "db19c272",
   "metadata": {},
   "source": [
    "- The inverse correlation of varibale ['me'] contains values between strong negative correlation and weak correlation.\n",
    "- The inverse correlation of varibale ['ve'] contains values ranging between strong negative correlation and weak correlation.\n",
    "- The inverse correlation of varibale ['al'] contains values with moderate negative correlation.\n",
    "- The inverse correlation of varibale ['an'] contains values with strong negative correlation and weak correlation.\n",
    "- The inverse correlation of varibale ['st'] contains values with moderate negative correlation and weak correlation."
   ]
  },
  {
   "cell_type": "code",
   "execution_count": 147,
   "id": "68282db8",
   "metadata": {},
   "outputs": [],
   "source": [
    "# -1.0 to -0.70 = strong negative correlation\n",
    "# -0.50 = moderate negative relationship\n",
    "# -0.30 = weak correlation"
   ]
  },
  {
   "cell_type": "markdown",
   "id": "cc82a580",
   "metadata": {},
   "source": [
    "# Graphical Model"
   ]
  },
  {
   "cell_type": "markdown",
   "id": "f8b597e1",
   "metadata": {},
   "source": [
    "Random Forest Classifier "
   ]
  },
  {
   "cell_type": "code",
   "execution_count": 20,
   "id": "cc3356b4",
   "metadata": {},
   "outputs": [
    {
     "name": "stdout",
     "output_type": "stream",
     "text": [
      "[39 38 37 36 31 30 33 35 29 32 20 24 34 17 19 12 27 23 25 15 22 16  3 13\n",
      " 28 11 18 26 14  7 10 21  8  4  9  6  5  1  0  2]\n",
      "[45 41 44 36 34 32 38 40 42 33 31 43 14 39 26 24 30  6 35 10 28 15 13 22\n",
      " 18 37 27 12 29 23 11 17  9 19 20 25 21 16  5  7  4  1  3  8  2  0]\n"
     ]
    }
   ],
   "source": [
    "from sklearn.preprocessing import LabelEncoder\n",
    "labelencoder = LabelEncoder()\n",
    "\n",
    "df.iloc[:,1]= labelencoder.fit_transform(df.iloc[:,1].values)\n",
    "\n",
    "\n",
    "df.iloc[:,0]= labelencoder.fit_transform(df.iloc[:,0].values)\n",
    "\n",
    "\n",
    "#Print the NEW unique values in the columns\n",
    "print(df['ve'].unique())\n",
    "print(df['me'].unique())"
   ]
  },
  {
   "cell_type": "code",
   "execution_count": 98,
   "id": "fd997054",
   "metadata": {},
   "outputs": [],
   "source": [
    "X = df.iloc[:, 0:5].values \n",
    "Y = df.iloc[:, 0].values "
   ]
  },
  {
   "cell_type": "code",
   "execution_count": 99,
   "id": "fa1b3545",
   "metadata": {},
   "outputs": [],
   "source": [
    "from sklearn.model_selection import train_test_split\n",
    "X_train, X_test, Y_train, Y_test = train_test_split(X, Y, test_size = 0.2, random_state = 0)"
   ]
  },
  {
   "cell_type": "code",
   "execution_count": 100,
   "id": "54d120c1",
   "metadata": {},
   "outputs": [],
   "source": [
    "from sklearn.preprocessing import StandardScaler\n",
    "sc = StandardScaler()\n",
    "X_train = sc.fit_transform(X_train)\n",
    "X_test = sc.transform(X_test)"
   ]
  },
  {
   "cell_type": "code",
   "execution_count": 101,
   "id": "ab902f2c",
   "metadata": {},
   "outputs": [],
   "source": [
    "def models(X_train,Y_train):\n",
    "  \n",
    "  #Using Logistic Regression Algorithm to the Training Set\n",
    "  from sklearn.linear_model import LogisticRegression\n",
    "  log = LogisticRegression(random_state = 0)\n",
    "  log.fit(X_train, Y_train)\n",
    "  \n",
    "  #Using KNeighborsClassifier Method of neighbors class to use Nearest Neighbor algorithm\n",
    "  from sklearn.neighbors import KNeighborsClassifier\n",
    "  knn = KNeighborsClassifier(n_neighbors = 5, metric = 'minkowski', p = 2)\n",
    "  knn.fit(X_train, Y_train)\n",
    "\n",
    "  #Using SVC method of svm class to use Support Vector Machine Algorithm\n",
    "  from sklearn.svm import SVC\n",
    "  svc_lin = SVC(kernel = 'linear', random_state = 0)\n",
    "  svc_lin.fit(X_train, Y_train)\n",
    "\n",
    "  #Using SVC method of svm class to use Kernel SVM Algorithm\n",
    "  from sklearn.svm import SVC\n",
    "  svc_rbf = SVC(kernel = 'rbf', random_state = 0)\n",
    "  svc_rbf.fit(X_train, Y_train)\n",
    "\n",
    "  #Using GaussianNB method of naïve_bayes class to use Naïve Bayes Algorithm\n",
    "  from sklearn.naive_bayes import GaussianNB\n",
    "  gauss = GaussianNB()\n",
    "  gauss.fit(X_train, Y_train)\n",
    "\n",
    "  #Using DecisionTreeClassifier of tree class to use Decision Tree Algorithm\n",
    "  from sklearn.tree import DecisionTreeClassifier\n",
    "  tree = DecisionTreeClassifier(criterion = 'entropy', random_state = 0)\n",
    "  tree.fit(X_train, Y_train)\n",
    "\n",
    "  #Using RandomForestClassifier method of ensemble class to use Random Forest Classification algorithm\n",
    "  from sklearn.ensemble import RandomForestClassifier\n",
    "  forest = RandomForestClassifier(n_estimators = 10, criterion = 'entropy', random_state = 0)\n",
    "  forest.fit(X_train, Y_train)\n",
    "  \n",
    "  #print model accuracy on the training data.\n",
    "  print('[0]Logistic Regression Training Accuracy:', log.score(X_train, Y_train))\n",
    "  print('[1]K Nearest Neighbor Training Accuracy:', knn.score(X_train, Y_train))\n",
    "  print('[2]Support Vector Machine (Linear Classifier) Training Accuracy:', svc_lin.score(X_train, Y_train))\n",
    "  print('[3]Support Vector Machine (RBF Classifier) Training Accuracy:', svc_rbf.score(X_train, Y_train))\n",
    "  print('[4]Gaussian Naive Bayes Training Accuracy:', gauss.score(X_train, Y_train))\n",
    "  print('[5]Decision Tree Classifier Training Accuracy:', tree.score(X_train, Y_train))\n",
    "  print('[6]Random Forest Classifier Training Accuracy:', forest.score(X_train, Y_train))\n",
    "  \n",
    "  return log, knn, svc_lin, svc_rbf, gauss, tree, forest"
   ]
  },
  {
   "cell_type": "code",
   "execution_count": 102,
   "id": "9d7db734",
   "metadata": {},
   "outputs": [
    {
     "name": "stdout",
     "output_type": "stream",
     "text": [
      "[0]Logistic Regression Training Accuracy: 0.4142857142857143\n",
      "[1]K Nearest Neighbor Training Accuracy: 0.24285714285714285\n",
      "[2]Support Vector Machine (Linear Classifier) Training Accuracy: 0.4857142857142857\n",
      "[3]Support Vector Machine (RBF Classifier) Training Accuracy: 0.3\n",
      "[4]Gaussian Naive Bayes Training Accuracy: 1.0\n",
      "[5]Decision Tree Classifier Training Accuracy: 1.0\n",
      "[6]Random Forest Classifier Training Accuracy: 0.9857142857142858\n"
     ]
    }
   ],
   "source": [
    "model = models(X_train, Y_train)"
   ]
  },
  {
   "cell_type": "markdown",
   "id": "595069fe",
   "metadata": {},
   "source": [
    "Selected Random Forest Classifier Model because of its high accuracy rate (0.985)"
   ]
  },
  {
   "cell_type": "code",
   "execution_count": 103,
   "id": "df6c178a",
   "metadata": {},
   "outputs": [
    {
     "data": {
      "text/html": [
       "<div>\n",
       "<style scoped>\n",
       "    .dataframe tbody tr th:only-of-type {\n",
       "        vertical-align: middle;\n",
       "    }\n",
       "\n",
       "    .dataframe tbody tr th {\n",
       "        vertical-align: top;\n",
       "    }\n",
       "\n",
       "    .dataframe thead th {\n",
       "        text-align: right;\n",
       "    }\n",
       "</style>\n",
       "<table border=\"1\" class=\"dataframe\">\n",
       "  <thead>\n",
       "    <tr style=\"text-align: right;\">\n",
       "      <th></th>\n",
       "      <th>importance</th>\n",
       "    </tr>\n",
       "    <tr>\n",
       "      <th>feature</th>\n",
       "      <th></th>\n",
       "    </tr>\n",
       "  </thead>\n",
       "  <tbody>\n",
       "    <tr>\n",
       "      <th>me</th>\n",
       "      <td>0.359</td>\n",
       "    </tr>\n",
       "    <tr>\n",
       "      <th>ve</th>\n",
       "      <td>0.208</td>\n",
       "    </tr>\n",
       "    <tr>\n",
       "      <th>an</th>\n",
       "      <td>0.157</td>\n",
       "    </tr>\n",
       "    <tr>\n",
       "      <th>st</th>\n",
       "      <td>0.138</td>\n",
       "    </tr>\n",
       "    <tr>\n",
       "      <th>al</th>\n",
       "      <td>0.137</td>\n",
       "    </tr>\n",
       "  </tbody>\n",
       "</table>\n",
       "</div>"
      ],
      "text/plain": [
       "         importance\n",
       "feature            \n",
       "me            0.359\n",
       "ve            0.208\n",
       "an            0.157\n",
       "st            0.138\n",
       "al            0.137"
      ]
     },
     "execution_count": 103,
     "metadata": {},
     "output_type": "execute_result"
    }
   ],
   "source": [
    "forest = model[6]\n",
    "importances = pd.DataFrame({'feature':df.iloc[:, 0:5].columns,'importance':np.round(forest.feature_importances_,3)})\n",
    "importances = importances.sort_values('importance',ascending=False).set_index('feature')\n",
    "importances"
   ]
  },
  {
   "cell_type": "code",
   "execution_count": 104,
   "id": "75c9a2cb",
   "metadata": {},
   "outputs": [
    {
     "data": {
      "text/plain": [
       "<AxesSubplot:xlabel='feature'>"
      ]
     },
     "execution_count": 104,
     "metadata": {},
     "output_type": "execute_result"
    },
    {
     "data": {
      "image/png": "[encoded data removed]",
      "text/plain": [
       "<Figure size 432x288 with 1 Axes>"
      ]
     },
     "metadata": {
      "needs_background": "light"
     },
     "output_type": "display_data"
    }
   ],
   "source": [
    "importances.plot.bar()"
   ]
  },
  {
   "cell_type": "code",
   "execution_count": 105,
   "id": "44d77de2",
   "metadata": {},
   "outputs": [
    {
     "name": "stdout",
     "output_type": "stream",
     "text": [
      "[63 60 49 46 15 23 46 46 13  5 63 46 31 15 63 41 49 35]\n",
      "\n",
      "[75 65 59 48 41 30 40 46  8  0 59 44 31 18 62 44 54 35]\n"
     ]
    }
   ],
   "source": [
    "#Print Prediction of Random Forest Classifier model\n",
    "pred = model[6].predict(X_test)\n",
    "print(pred)\n",
    "\n",
    "#Print a space\n",
    "print()\n",
    "\n",
    "#Print the actual values\n",
    "print(Y_test)"
   ]
  },
  {
   "cell_type": "markdown",
   "id": "44fdb2ac",
   "metadata": {},
   "source": [
    "# Gaussian Process Regression"
   ]
  },
  {
   "cell_type": "markdown",
   "id": "4d104d6a",
   "metadata": {},
   "source": [
    "Noiseless Case"
   ]
  },
  {
   "cell_type": "code",
   "execution_count": 129,
   "id": "b3674fca",
   "metadata": {},
   "outputs": [],
   "source": [
    "import pandas as pd\n",
    "df = pd.read_csv(\"math exam scores (1).csv\")"
   ]
  },
  {
   "cell_type": "code",
   "execution_count": 120,
   "id": "e3674f5a",
   "metadata": {},
   "outputs": [],
   "source": [
    "import numpy as np\n",
    "from matplotlib import pyplot as plt"
   ]
  },
  {
   "cell_type": "code",
   "execution_count": 121,
   "id": "16501ae3",
   "metadata": {},
   "outputs": [],
   "source": [
    "from sklearn.gaussian_process import GaussianProcessRegressor\n",
    "from sklearn.gaussian_process.kernels import RBF, ConstantKernel as C"
   ]
  },
  {
   "cell_type": "code",
   "execution_count": 122,
   "id": "63a0398d",
   "metadata": {},
   "outputs": [],
   "source": [
    "np.random.seed(1)"
   ]
  },
  {
   "cell_type": "code",
   "execution_count": 123,
   "id": "dcd9a261",
   "metadata": {},
   "outputs": [],
   "source": [
    "def f(x):\n",
    "    return x * np.sin(x)"
   ]
  },
  {
   "cell_type": "markdown",
   "id": "8b8fcdd3",
   "metadata": {},
   "source": [
    "Randomly selected 10 values from the ['ve'] variable: "
   ]
  },
  {
   "cell_type": "code",
   "execution_count": 132,
   "id": "986228e8",
   "metadata": {},
   "outputs": [],
   "source": [
    "X = np.atleast_2d([18., 26., 14., 7., 10., 21., 8., 4., 9., 6.,]).T"
   ]
  },
  {
   "cell_type": "code",
   "execution_count": 133,
   "id": "f500dba0",
   "metadata": {},
   "outputs": [],
   "source": [
    "y = f(X).ravel()"
   ]
  },
  {
   "cell_type": "code",
   "execution_count": 134,
   "id": "f07d8784",
   "metadata": {},
   "outputs": [],
   "source": [
    "x = np.atleast_2d(np.linspace(0, 10, 100)).T"
   ]
  },
  {
   "cell_type": "code",
   "execution_count": 161,
   "id": "4de0f0cb",
   "metadata": {},
   "outputs": [],
   "source": [
    "kernel = C(1.0, (1e-3, 1e3)) * RBF(10, (1e-2, 1e2))\n",
    "gp = GaussianProcessRegressor(kernel=kernel, n_restarts_optimizer=9)"
   ]
  },
  {
   "cell_type": "code",
   "execution_count": 162,
   "id": "af3d5293",
   "metadata": {},
   "outputs": [
    {
     "data": {
      "text/plain": [
       "GaussianProcessRegressor(kernel=1**2 * RBF(length_scale=10),\n",
       "                         n_restarts_optimizer=9)"
      ]
     },
     "execution_count": 162,
     "metadata": {},
     "output_type": "execute_result"
    }
   ],
   "source": [
    "gp.fit(X, y)"
   ]
  },
  {
   "cell_type": "code",
   "execution_count": 163,
   "id": "ecc6b0e8",
   "metadata": {},
   "outputs": [],
   "source": [
    "y_pred, sigma = gp.predict(x, return_std=True)"
   ]
  },
  {
   "cell_type": "code",
   "execution_count": 164,
   "id": "5bf5021d",
   "metadata": {},
   "outputs": [
    {
     "data": {
      "text/plain": [
       "<matplotlib.legend.Legend at 0x229f54f8700>"
      ]
     },
     "execution_count": 164,
     "metadata": {},
     "output_type": "execute_result"
    },
    {
     "data": {
      "image/png": "[encoded data removed]",
      "text/plain": [
       "<Figure size 432x288 with 1 Axes>"
      ]
     },
     "metadata": {
      "needs_background": "light"
     },
     "output_type": "display_data"
    }
   ],
   "source": [
    "plt.figure()\n",
    "plt.plot(x, f(x), 'r:', label=r'$f(x) = x\\,\\sin(x)$')\n",
    "plt.plot(X, y, 'r.', markersize=10, label='Observations')\n",
    "plt.plot(x, y_pred, 'b-', label='Prediction')\n",
    "plt.fill(np.concatenate([x, x[::-1]]),\n",
    "         np.concatenate([y_pred - 1.9600 * sigma,\n",
    "                        (y_pred + 1.9600 * sigma)[::-1]]),\n",
    "         alpha=.5, fc='b', ec='None', label='95% confidence interval')\n",
    "plt.title('Gaussian Process Regression')\n",
    "plt.xlabel('$x$')\n",
    "plt.ylabel('$f(x)$')\n",
    "plt.ylim(-10, 20)\n",
    "plt.legend(loc='upper left')"
   ]
  },
  {
   "cell_type": "markdown",
   "id": "41dd4122",
   "metadata": {},
   "source": [
    "Description: \n",
    "As shown in the model, the highest confidence (corresponds to zero confidence interval) remains at the training data points. The blue curve represents the original function, the red curve being the predicted function with GP and the red dots are the training data points."
   ]
  },
  {
   "cell_type": "code",
   "execution_count": 194,
   "id": "e294d893",
   "metadata": {},
   "outputs": [],
   "source": [
    "import pandas as pd \n",
    "prediction = model.predict(X)\n",
    "df = pd.DataFrame(prediction, columns = ['ouput'])"
   ]
  },
  {
   "cell_type": "markdown",
   "id": "776d713f",
   "metadata": {},
   "source": [
    "# Evaluation of GPR"
   ]
  },
  {
   "cell_type": "markdown",
   "id": "43b41b5e",
   "metadata": {},
   "source": [
    "Mean Squared Error (MSE):"
   ]
  },
  {
   "cell_type": "code",
   "execution_count": 204,
   "id": "f83e1f13",
   "metadata": {},
   "outputs": [
    {
     "data": {
      "text/plain": [
       "261.3"
      ]
     },
     "execution_count": 204,
     "metadata": {},
     "output_type": "execute_result"
    }
   ],
   "source": [
    "from sklearn.metrics import mean_squared_error\n",
    "  \n",
    "Y_true = [18, 26, 14, 7, 10, 21, 8, 4, 9, 6] \n",
    "\n",
    "Y_pred = [-3, -2, 5, 7, 3, -5, 14, 17, 20, 22]\n",
    "\n",
    "mean_squared_error(Y_true, Y_pred)"
   ]
  },
  {
   "cell_type": "markdown",
   "id": "cd486267",
   "metadata": {},
   "source": [
    "Accuracy Score: "
   ]
  },
  {
   "cell_type": "code",
   "execution_count": 205,
   "id": "79891368",
   "metadata": {},
   "outputs": [
    {
     "data": {
      "text/plain": [
       "0.1"
      ]
     },
     "execution_count": 205,
     "metadata": {},
     "output_type": "execute_result"
    }
   ],
   "source": [
    "from sklearn.metrics import accuracy_score\n",
    "y_pred = [-3, -2, 5, 7, 3, -5, 14, 17, 20, 22]\n",
    "y_true = [18, 26, 14, 7, 10, 21, 8, 4, 9, 6]\n",
    "accuracy_score(y_true, y_pred)"
   ]
  },
  {
   "cell_type": "code",
   "execution_count": 203,
   "id": "b1bb1ac9",
   "metadata": {},
   "outputs": [
    {
     "data": {
      "text/plain": [
       "1"
      ]
     },
     "execution_count": 203,
     "metadata": {},
     "output_type": "execute_result"
    }
   ],
   "source": [
    "accuracy_score(y_true, y_pred, normalize=False)"
   ]
  },
  {
   "cell_type": "markdown",
   "id": "0be35d65",
   "metadata": {},
   "source": [
    "# Discussion"
   ]
  },
  {
   "cell_type": "markdown",
   "id": "0f8a3ed3",
   "metadata": {},
   "source": [
    "The calculated Mean Squared Error is 261.3, which means that all predicted values do not match the expected values exactly since the score is far from zero. Therefore, the GPR model is not perfect based on the MSE score."
   ]
  },
  {
   "cell_type": "markdown",
   "id": "f5e5faf8",
   "metadata": {},
   "source": [
    "For the Accuracy classification score, the mulitlable classification was utilized. According to the Multilable Classification, the best performance is 1 with normalize == True and the number of samples with normalize == False"
   ]
  },
  {
   "cell_type": "markdown",
   "id": "0b393a0e",
   "metadata": {},
   "source": [
    "The results of the GPR model are limited due to a programming error where I wasn't able to export all the values from varibale [\"ve\"] into the training data set."
   ]
  },
  {
   "cell_type": "markdown",
   "id": "02e0063c",
   "metadata": {},
   "source": [
    "Code Sources:\n",
    "1. Github\n",
    "2. Stackoverflow\n",
    "3. Scikit Learn"
   ]
  }
 ],
 "metadata": {
  "kernelspec": {
   "display_name": "Python 3 (ipykernel)",
   "language": "python",
   "name": "python3"
  },
  "language_info": {
   "codemirror_mode": {
    "name": "ipython",
    "version": 3
   },
   "file_extension": ".py",
   "mimetype": "text/x-python",
   "name": "python",
   "nbconvert_exporter": "python",
   "pygments_lexer": "ipython3",
   "version": "3.9.12"
  }
 },
 "nbformat": 4,
 "nbformat_minor": 5
}
